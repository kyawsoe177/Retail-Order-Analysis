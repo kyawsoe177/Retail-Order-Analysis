{
 "cells": [
  {
   "cell_type": "markdown",
   "id": "9c22a225-b048-42c1-8186-b59a43d01358",
   "metadata": {},
   "source": [
    "# DATA CLEANING"
   ]
  },
  {
   "cell_type": "code",
   "execution_count": 216,
   "id": "6ea85c2a-44dc-41e6-85a7-3238dcf01074",
   "metadata": {},
   "outputs": [],
   "source": [
    "import pandas as pd\n",
    "import numpy as np\n",
    "import seaborn as sns\n",
    "import matplotlib.pyplot as plt\n",
    "from scipy.stats import ttest_ind\n",
    "from sklearn.model_selection import train_test_split\n",
    "from sklearn.ensemble import RandomForestClassifier\n",
    "from sklearn.preprocessing import LabelEncoder\n",
    "from sklearn.metrics import classification_report, confusion_matrix"
   ]
  },
  {
   "cell_type": "markdown",
   "id": "260d8de9-a6f4-4d30-b0ac-c1f016d28952",
   "metadata": {},
   "source": [
    "## Standardize City Names"
   ]
  },
  {
   "cell_type": "code",
   "execution_count": 218,
   "id": "30860425-aa4d-4123-af31-b2e167303f4e",
   "metadata": {},
   "outputs": [
    {
     "name": "stdout",
     "output_type": "stream",
     "text": [
      "   customer_id first_name last_name  age      city loyalty_status signup_date  \\\n",
      "0            1      Harry       Doe   39   Chicago        Regular  2024-03-05   \n",
      "1            1      Harry       Doe   39   Chicago        Regular  2024-03-05   \n",
      "2            2        Tom   Johnson   33  NEW YORK        Regular  2024-10-13   \n",
      "3            2        Tom   Johnson   33  NEW YORK        Regular  2024-10-13   \n",
      "4            2        Tom   Johnson   33  NEW YORK        Regular  2024-10-13   \n",
      "\n",
      "   order_id  order_date  total_amount  quantity  discount_applied  \\\n",
      "0      1578  2025-03-13       1287.98         2               0.0   \n",
      "1       449  2025-03-27        352.74         3               0.0   \n",
      "2      1973  2025-02-27        165.81         1               0.0   \n",
      "3      1410  2025-03-05       5849.76         4               0.0   \n",
      "4      1252  2025-03-28       3672.27         3               0.0   \n",
      "\n",
      "  product_name     category    price  \n",
      "0        Dress     Clothing   643.99  \n",
      "1     Keyboard     Clothing   117.58  \n",
      "2      Monitor  Accessories   165.81  \n",
      "3          Hat  Electronics  1462.44  \n",
      "4        Dress     Clothing  1224.09  \n"
     ]
    }
   ],
   "source": [
    "# Load merged data\n",
    "df = pd.read_csv('retail_orders.csv')\n",
    "print(df.head())"
   ]
  },
  {
   "cell_type": "markdown",
   "id": "862e60a9-ad08-40aa-bf19-e352520d8b58",
   "metadata": {},
   "source": [
    "There appears to be a problem with the letter casing in the city column. We will standardize the city names by applying the str.title() method, ensuring all entries follow a uniform format. str.title() is a string method that converts the first character of each word in a string to uppercase and the rest to lowercase."
   ]
  },
  {
   "cell_type": "code",
   "execution_count": 220,
   "id": "e532663a-265e-49df-9d88-2165570c10e0",
   "metadata": {},
   "outputs": [],
   "source": [
    "# Standardize the city names\n",
    "df['city'] = df['city'].str.strip().str.title()"
   ]
  },
  {
   "cell_type": "markdown",
   "id": "108b4dda-3a66-4cd8-856d-860e5dec97ee",
   "metadata": {},
   "source": [
    "## Fix Invalid Ages"
   ]
  },
  {
   "cell_type": "code",
   "execution_count": 222,
   "id": "f9851c40-d630-4467-b6ce-5b2af9a8ff9d",
   "metadata": {},
   "outputs": [
    {
     "name": "stdout",
     "output_type": "stream",
     "text": [
      "       customer_id          age     order_id  total_amount     quantity  \\\n",
      "count  1000.000000  1000.000000  1000.000000   1000.000000  1000.000000   \n",
      "mean    182.673000    35.073000  1462.807000   1403.249550     1.849000   \n",
      "std     105.868845    15.387672   796.137914   1274.467409     1.133792   \n",
      "min       1.000000    -5.000000   102.000000     44.540000     1.000000   \n",
      "25%      93.000000    28.000000   749.250000    519.100000     1.000000   \n",
      "50%     180.000000    35.000000  1481.500000   1063.155000     1.000000   \n",
      "75%     277.250000    41.000000  2150.000000   1921.602500     2.000000   \n",
      "max     369.000000   150.000000  2818.000000   7472.700000     5.000000   \n",
      "\n",
      "       discount_applied        price  \n",
      "count       1000.000000  1000.000000  \n",
      "mean           0.041200   791.137450  \n",
      "std            0.072442   445.230466  \n",
      "min            0.000000    55.670000  \n",
      "25%            0.000000   336.630000  \n",
      "50%            0.000000   837.490000  \n",
      "75%            0.100000  1116.630000  \n",
      "max            0.300000  1494.540000  \n"
     ]
    }
   ],
   "source": [
    "print(df.describe())"
   ]
  },
  {
   "cell_type": "markdown",
   "id": "5c874015-61f1-41e0-9f5c-de6fee1c1357",
   "metadata": {},
   "source": [
    "The results show negative values and unrealistic entries, such as ages of 150, in the 'age' column. We fix them by replacing with null if there are negative and replacing with 80 if they are above 80. Aftering the fix, the minimum age becomes 14 while the maximum age is 80."
   ]
  },
  {
   "cell_type": "code",
   "execution_count": 224,
   "id": "61819219-c547-47be-a383-afe541025bdd",
   "metadata": {},
   "outputs": [],
   "source": [
    "# Fix invalid ages \n",
    "df['age'] = df['age'].apply(lambda x: np.nan if pd.isna(x) or x < 0 else min(x, 80))"
   ]
  },
  {
   "cell_type": "markdown",
   "id": "0313b330-f63e-4631-8ed4-725a948d4dac",
   "metadata": {},
   "source": [
    "## Handle Missing Values and Duplicates"
   ]
  },
  {
   "cell_type": "code",
   "execution_count": 226,
   "id": "5001ce31-0de9-4795-808f-72fa77f9d0b3",
   "metadata": {},
   "outputs": [
    {
     "name": "stdout",
     "output_type": "stream",
     "text": [
      "<class 'pandas.core.frame.DataFrame'>\n",
      "RangeIndex: 1000 entries, 0 to 999\n",
      "Data columns (total 15 columns):\n",
      " #   Column            Non-Null Count  Dtype  \n",
      "---  ------            --------------  -----  \n",
      " 0   customer_id       1000 non-null   int64  \n",
      " 1   first_name        1000 non-null   object \n",
      " 2   last_name         931 non-null    object \n",
      " 3   age               983 non-null    float64\n",
      " 4   city              1000 non-null   object \n",
      " 5   loyalty_status    1000 non-null   object \n",
      " 6   signup_date       1000 non-null   object \n",
      " 7   order_id          1000 non-null   int64  \n",
      " 8   order_date        1000 non-null   object \n",
      " 9   total_amount      1000 non-null   float64\n",
      " 10  quantity          1000 non-null   int64  \n",
      " 11  discount_applied  1000 non-null   float64\n",
      " 12  product_name      1000 non-null   object \n",
      " 13  category          1000 non-null   object \n",
      " 14  price             1000 non-null   float64\n",
      "dtypes: float64(4), int64(3), object(8)\n",
      "memory usage: 117.3+ KB\n",
      "None\n"
     ]
    }
   ],
   "source": [
    "print(df.info())"
   ]
  },
  {
   "cell_type": "markdown",
   "id": "6f034671-d6aa-4a89-978a-ce53d47e24dc",
   "metadata": {},
   "source": [
    "There are some missing values in 'last_name' and 'age' columns. We will also check for duplicates at the same time."
   ]
  },
  {
   "cell_type": "code",
   "execution_count": 228,
   "id": "7a5a9591-d093-469e-be1a-5010440d47d2",
   "metadata": {},
   "outputs": [
    {
     "name": "stdout",
     "output_type": "stream",
     "text": [
      "Number of duplicates: 0\n",
      "<class 'pandas.core.frame.DataFrame'>\n",
      "Index: 914 entries, 0 to 999\n",
      "Data columns (total 15 columns):\n",
      " #   Column            Non-Null Count  Dtype  \n",
      "---  ------            --------------  -----  \n",
      " 0   customer_id       914 non-null    int64  \n",
      " 1   first_name        914 non-null    object \n",
      " 2   last_name         914 non-null    object \n",
      " 3   age               914 non-null    float64\n",
      " 4   city              914 non-null    object \n",
      " 5   loyalty_status    914 non-null    object \n",
      " 6   signup_date       914 non-null    object \n",
      " 7   order_id          914 non-null    int64  \n",
      " 8   order_date        914 non-null    object \n",
      " 9   total_amount      914 non-null    float64\n",
      " 10  quantity          914 non-null    int64  \n",
      " 11  discount_applied  914 non-null    float64\n",
      " 12  product_name      914 non-null    object \n",
      " 13  category          914 non-null    object \n",
      " 14  price             914 non-null    float64\n",
      "dtypes: float64(4), int64(3), object(8)\n",
      "memory usage: 114.2+ KB\n",
      "None\n"
     ]
    }
   ],
   "source": [
    "# Drop rows where any values are missing\n",
    "df = df.dropna()\n",
    "# Check for duplicate rows\n",
    "print(f'Number of duplicates: {df.duplicated().sum()}')\n",
    "print(df.info())"
   ]
  },
  {
   "cell_type": "markdown",
   "id": "ecd7ef23-9b57-4785-ab22-50b17728a39f",
   "metadata": {},
   "source": [
    "## Convert Data Type\n",
    "It is also observed that 'signup_date' and 'order_date' are object data type. As they are time information, we will convert them to datetime data type."
   ]
  },
  {
   "cell_type": "code",
   "execution_count": 230,
   "id": "941d1857-1f61-4b5d-a22f-d00e56441413",
   "metadata": {},
   "outputs": [],
   "source": [
    "df['signup_date'] = pd.to_datetime(df['signup_date'])\n",
    "df['order_date'] = pd.to_datetime(df['order_date'])"
   ]
  },
  {
   "cell_type": "markdown",
   "id": "7dedde42-7ab6-4dc5-b166-0a6a9aae4a98",
   "metadata": {},
   "source": [
    "# HYPOTHESIS TESTING\n",
    "In this analysis, we aim to evaluate whether there is a significant difference in spending behavior among customers with different loyalty statuses. Specifically, we focus on three distinct levels of customer loyalty of Regular, Silver, and Gold, with Gold representing the highest level of loyalty.\n",
    "\n",
    "Our primary objective is to determine whether Gold-level customers spend more on average than Regular-level customers. This can provide valuable insights into the effectiveness and impact of loyalty programs on customer spending patterns. By identifying statistically significant differences in spending behavior, businesses can better tailor their marketing strategies, rewards, and customer retention efforts. To investigate this, we will perform a a t-testcomparing total_amount between loyalty_status groups.\n",
    "\n",
    "<b>Null Hypothesis</b>: There is no difference in the average spending between Gold and Regular customers.\n",
    "\n",
    "<b>Alternative Hypothesis</b>: Gold customers spend more on average than Regular customers."
   ]
  },
  {
   "cell_type": "code",
   "execution_count": 232,
   "id": "4ceca279-017f-4862-9863-37c4d8daae12",
   "metadata": {},
   "outputs": [
    {
     "name": "stdout",
     "output_type": "stream",
     "text": [
      "T-test p-value: 0.8301442423815897\n",
      "Fail to reject null hypothesis.\n"
     ]
    }
   ],
   "source": [
    "# Compare spending between two groups\n",
    "gold_spending = df[df['loyalty_status'] == 'Gold']['total_amount']\n",
    "regular_spending = df[df['loyalty_status'] == 'Regular']['total_amount']\n",
    "\n",
    "# Perform t-test\n",
    "t_stat, p_value = ttest_ind(gold_spending, regular_spending, equal_var=False)\n",
    "print(\"T-test p-value:\", p_value)\n",
    "if p_value < 0.05:\n",
    "    print(\"Reject null hypothesis.\")\n",
    "else:\n",
    "    print(\"Fail to reject null hypothesis.\")"
   ]
  },
  {
   "cell_type": "markdown",
   "id": "febda01a-4333-444d-96c9-c42a90f7b07b",
   "metadata": {},
   "source": [
    "The p-value of 0.821 suggests that there is no statistically significant difference in the average spending between Gold and Regular customers. This high p-value indicates that the observed difference in spending is likely due to random variation, and not due to any real effect of loyalty status. As a result, we fail to reject the null hypothesis, concluding that there is insufficient evidence to support the claim that Gold customers spend more on average than Regular customers."
   ]
  },
  {
   "cell_type": "markdown",
   "id": "de3007e5-b113-420d-a980-5e18cf532ede",
   "metadata": {},
   "source": [
    "# CORRELATION ANALYSIS\n",
    "The Pearson correlation coefficient was calculated to analyze the relationships between key numerical variables—age, total_amount, quantity, and discount_applied. The results were then visualized using a heatmap. This analysis helps in understanding the underlying structure of the data and in identifying which features may be more influential or interdependent when building predictive models."
   ]
  },
  {
   "cell_type": "code",
   "execution_count": 24,
   "id": "f3d1e8cc-861d-4276-ba4e-6ba8743fc162",
   "metadata": {},
   "outputs": [
    {
     "data": {
      "image/png": "[encoded data removed]",
      "text/plain": [
       "<Figure size 800x600 with 2 Axes>"
      ]
     },
     "metadata": {},
     "output_type": "display_data"
    }
   ],
   "source": [
    "# Select numerical columns\n",
    "corr_columns = ['age', 'total_amount', 'quantity', 'discount_applied']\n",
    "corr_matrix = df[corr_columns].corr()\n",
    "\n",
    "# Plot heatmap\n",
    "plt.figure(figsize=(8, 6))\n",
    "sns.heatmap(corr_matrix, annot=True, cmap='coolwarm', vmin=-1, vmax=1)\n",
    "plt.title('Correlation Matrix')\n",
    "plt.show()"
   ]
  },
  {
   "cell_type": "markdown",
   "id": "94aaf5af-028c-48d0-b3ea-070889ceff2d",
   "metadata": {},
   "source": [
    "Among all the features, the only notable correlation observed is between total_amount and quantity, with a correlation coefficient of 0.67, indicating a moderate to strong positive linear relationship. All other feature pairs show either weak or negligible correlations, suggesting they do not exhibit strong linear dependencies. This suggests that most features are not similar to each other (not highly correlated) and it helps most machine learning models make better decisions because each feature gives new and distinct information. "
   ]
  },
  {
   "cell_type": "markdown",
   "id": "ce7066b8-1ec9-4249-ae92-da9f0274cc56",
   "metadata": {},
   "source": [
    "# PREDICTION OF CUSTOMER CHURN RATE\n",
    "A predictive model has been developed to estimate the customer churn rate, specifically identifying customers who are unlikely to make a purchase again. The goal of this model is to help the business proactively address potential churn by understanding patterns in customer behavior. The Random Forest algorithm was chosen for this task due to its ability to handle both categorical and numerical features, its robustness against overfitting, and its effectiveness in capturing non-linear relationships in the data. \n",
    "\n",
    "To build the model, a range of customer-related features were utilized, including:\n",
    "customer_id: Unique identifier for each customer </br>\n",
    "age: Age of the customer </br>\n",
    "loyalty_status: Loyalty level (e.g., Regular, Silver, Gold) </br>\n",
    "city: Customer’s location </br>\n",
    "tenure: Duration of the customer relationship </br>\n",
    "avg_order_amount: Average amount spent per order </br>\n",
    "order_count: Total number of past orders </br>\n",
    "discount_applied: Indicator of whether discounts were used </br>\n",
    "category: Product category most frequently purchased </br>\n",
    "\n",
    "In this predictive modeling task, the churn rate is defined based on customer purchasing behavior relative to a specific cutoff date — April 10, 2025. The outputs include 'actual_churn' (based on whether a purchase was made since the cutoff date), 'predicted churn', and a probability score indicating the model's estimated likelihood that a customer will churn. The output values are encoded as 1 for churned customers (those who did not make a purchase since the cutoff date) and 0 for active customers (those who continued to make purchases). In addition to these labels, the model also provides a probability score representing the predicted likelihood of churn for each customer. Additionally, the overall accuracy of the model is displayed."
   ]
  },
  {
   "cell_type": "code",
   "execution_count": 234,
   "id": "2bada6a4-e5a0-432e-b7a8-25132b589175",
   "metadata": {},
   "outputs": [],
   "source": [
    "# Feature engineering\n",
    "df['tenure'] = (pd.to_datetime('2025-04-01') - pd.to_datetime(df['signup_date'])).dt.days\n",
    "\n",
    "# Compute order summary stats\n",
    "order_summary = df.groupby('customer_id').agg(avg_order_amount=('total_amount', 'mean'), order_count=('order_id', 'count')).reset_index()\n",
    "\n",
    "# Merge with original DataFrame (ensure 'customer_id' is the key)\n",
    "df = df.merge(order_summary, on='customer_id', how='left') "
   ]
  },
  {
   "cell_type": "code",
   "execution_count": 236,
   "id": "3118c090-2c28-452d-873e-af164d953db2",
   "metadata": {},
   "outputs": [
    {
     "name": "stdout",
     "output_type": "stream",
     "text": [
      "Accuracy: 0.6907216494845361\n",
      " customer_id  actual_churn  predicted_churn  churn_probability\n",
      "         202             1                0               0.41\n",
      "         158             0                1               0.66\n",
      "         230             1                1               0.70\n",
      "          10             0                0               0.06\n",
      "         126             0                1               0.52\n",
      "         143             0                0               0.13\n",
      "         292             0                0               0.39\n",
      "         186             0                1               0.69\n",
      "         265             1                1               0.67\n",
      "         356             1                1               0.62\n",
      "         229             1                1               0.65\n",
      "         108             0                0               0.20\n",
      "         321             0                0               0.15\n",
      "         102             0                0               0.09\n",
      "         218             1                0               0.20\n",
      "         311             1                0               0.49\n",
      "         151             0                0               0.40\n",
      "          95             1                0               0.36\n",
      "          31             0                0               0.43\n",
      "           6             1                1               0.65\n",
      "         237             1                1               0.70\n",
      "          68             0                0               0.27\n",
      "          58             0                0               0.08\n",
      "         350             0                1               0.67\n",
      "         342             0                0               0.17\n",
      "         138             0                0               0.16\n",
      "          70             0                0               0.14\n",
      "          94             0                0               0.03\n",
      "         228             1                1               0.51\n",
      "         296             0                1               0.70\n",
      "         130             1                0               0.33\n",
      "         241             0                0               0.16\n",
      "          78             0                0               0.08\n",
      "         242             0                0               0.36\n",
      "         289             1                1               0.68\n",
      "         201             1                1               0.67\n",
      "         334             0                0               0.17\n",
      "          40             1                0               0.46\n",
      "         170             1                1               0.57\n",
      "         193             0                0               0.10\n",
      "         348             0                0               0.25\n",
      "          52             0                1               0.69\n",
      "         298             1                0               0.23\n",
      "         363             0                0               0.32\n",
      "          56             1                0               0.50\n",
      "         346             1                1               0.80\n",
      "         100             0                0               0.03\n",
      "         115             0                0               0.48\n",
      "          19             0                0               0.31\n",
      "          92             0                0               0.22\n",
      "         114             0                0               0.29\n",
      "           8             1                0               0.24\n",
      "         210             0                0               0.17\n",
      "          93             0                0               0.44\n",
      "         330             1                0               0.39\n",
      "         326             0                0               0.30\n",
      "         359             1                0               0.44\n",
      "           4             1                0               0.26\n",
      "         264             1                0               0.50\n",
      "         140             1                1               0.73\n",
      "         269             0                1               0.79\n",
      "          74             0                0               0.21\n",
      "         333             1                1               0.60\n",
      "         303             1                0               0.28\n",
      "         142             0                1               0.54\n",
      "         211             1                0               0.28\n",
      "          21             0                0               0.47\n",
      "          30             1                0               0.03\n",
      "         206             1                0               0.16\n",
      "         133             1                1               0.51\n",
      "          89             1                1               0.74\n",
      "         123             1                0               0.21\n",
      "         164             0                0               0.40\n",
      "         325             0                0               0.38\n",
      "         338             0                0               0.27\n",
      "         137             1                1               0.66\n",
      "         251             1                1               0.61\n",
      "         367             0                1               0.91\n",
      "         285             0                0               0.31\n",
      "          37             1                0               0.49\n",
      "         310             0                1               0.79\n",
      "         197             1                1               0.68\n",
      "         175             1                1               0.80\n",
      "         258             0                0               0.19\n",
      "         266             1                1               0.54\n",
      "         166             0                0               0.46\n",
      "          73             0                0               0.38\n",
      "         192             0                0               0.21\n",
      "           7             1                1               0.75\n",
      "         231             1                0               0.39\n",
      "          36             1                1               0.55\n",
      "          28             0                0               0.27\n",
      "         328             0                0               0.10\n",
      "         288             0                0               0.44\n",
      "          69             0                0               0.44\n",
      "         196             0                0               0.15\n",
      "         172             0                0               0.15\n"
     ]
    }
   ],
   "source": [
    "# Define churn (no orders in last 30 days)\n",
    "last_order = df.groupby('customer_id')['order_date'].max()\n",
    "df['churn'] = df['customer_id'].map(lambda x: 1 if (pd.to_datetime('2025-04-01') - last_order[x]).days > 30 else 0)\n",
    "\n",
    "# Encode categorical variables\n",
    "le = LabelEncoder()\n",
    "df['loyalty_status'] = le.fit_transform(df['loyalty_status'])\n",
    "df['city'] = le.fit_transform(df['city'])\n",
    "df['category'] = le.fit_transform(df['category'])\n",
    "\n",
    "# Features and target\n",
    "df = df.drop_duplicates(subset='customer_id')\n",
    "features = ['customer_id', 'age', 'loyalty_status', 'city', 'tenure', 'avg_order_amount', 'order_count', 'discount_applied', 'category']\n",
    "X = df[features]\n",
    "y = df['churn']\n",
    "\n",
    "# Train-test split\n",
    "X_train, X_test, y_train, y_test = train_test_split(X, y, test_size=0.3, random_state=42)\n",
    "\n",
    "# Train model\n",
    "model = RandomForestClassifier(random_state=42)\n",
    "model.fit(X_train.drop('customer_id', axis=1), y_train)\n",
    "\n",
    "# Get hard predictions (0 or 1)\n",
    "y_pred_proba = model.predict_proba(X_test.drop('customer_id', axis=1))[:, 1]  \n",
    "y_pred = model.predict(X_test.drop('customer_id', axis=1))  \n",
    "\n",
    "# Add results into a dataset\n",
    "results = X_test[['customer_id']].copy()\n",
    "results['actual_churn'] = y_test.values\n",
    "results['predicted_churn'] = y_pred\n",
    "results['churn_probability'] = y_pred_proba\n",
    "\n",
    "# Evaluate accuracy\n",
    "print(\"Accuracy:\", model.score(X_test.drop('customer_id', axis=1), y_test))\n",
    "\n",
    "print(results[['customer_id', 'actual_churn', 'predicted_churn', 'churn_probability']].to_string(index=False))"
   ]
  },
  {
   "cell_type": "markdown",
   "id": "8acea96f-54ad-4092-a5e5-ade214fdba43",
   "metadata": {},
   "source": [
    "The model achieved an accuracy of approximately 70%, indicating that it correctly predicts customer churn in about seven out of ten cases. While this level of accuracy demonstrates a solid predictive capability, there may still be room for improvement."
   ]
  }
 ],
 "metadata": {
  "kernelspec": {
   "display_name": "Python [conda env:base] *",
   "language": "python",
   "name": "conda-base-py"
  },
  "language_info": {
   "codemirror_mode": {
    "name": "ipython",
    "version": 3
   },
   "file_extension": ".py",
   "mimetype": "text/x-python",
   "name": "python",
   "nbconvert_exporter": "python",
   "pygments_lexer": "ipython3",
   "version": "3.12.7"
  }
 },
 "nbformat": 4,
 "nbformat_minor": 5
}
